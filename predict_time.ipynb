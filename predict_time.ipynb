{
 "cells": [
  {
   "cell_type": "code",
   "execution_count": 1,
   "metadata": {},
   "outputs": [],
   "source": [
    "import numpy as np\n",
    "import pandas as pd\n",
    "from sklearn.model_selection import train_test_split\n",
    "from sklearn import preprocessing\n",
    "from sklearn.ensemble import RandomForestRegressor\n",
    "from sklearn.pipeline import make_pipeline\n",
    "from sklearn.model_selection import GridSearchCV\n",
    "from sklearn.metrics import mean_squared_error, r2_score\n",
    "import joblib\n",
    "from sklearn.preprocessing import RobustScaler\n",
    "import csv\n",
    "import datetime\n",
    "from sklearn.svm import SVR\n",
    "import sklearn.svm as svm\n",
    "from sklearn.linear_model import LinearRegression"
   ]
  },
  {
   "cell_type": "code",
   "execution_count": 2,
   "metadata": {},
   "outputs": [],
   "source": [
    "dataset_url1 = 'https://opendata-download-metobs.smhi.se/api/version/1.0/parameter/2/station/71420/period/corrected-archive/data.csv'\n",
    "dataset_url2 = 'https://opendata-download-metobs.smhi.se/api/version/1.0/parameter/2/station/71420/period/latest-months/data.csv'\n",
    "data1 = pd.read_csv(dataset_url1, sep=';', skiprows=3607, names= [\n",
    "    'Fran Datum Tid (UTC)', 'till', 'day', 'temperature', 'Kvalitet', 'Tidsutsnitt:', 'Unnamed: 5'\n",
    "])\n",
    "data2 = pd.read_csv(dataset_url2, sep=';', skiprows=15, names= [\n",
    "    'Fran Datum Tid (UTC)', 'till', 'day', 'temperature', 'Kvalitet', 'Tidsutsnitt:', 'Unnamed: 5'\n",
    "])"
   ]
  },
  {
   "cell_type": "code",
   "execution_count": 4,
   "metadata": {},
   "outputs": [],
   "source": [
    "def train_data():\n",
    "    x = data1.drop('Kvalitet', axis = 1)\n",
    "    x = x.drop('Unnamed: 5', axis = 1)\n",
    "    x = x.drop('Fran Datum Tid (UTC)', axis = 1)\n",
    "    x = x.drop('Tidsutsnitt:', axis = 1)\n",
    "    y = x.temperature\n",
    "    X = x.drop('temperature', axis= 1)\n",
    "\n",
    "    x2 = data2.drop('Kvalitet', axis = 1)\n",
    "    x2 = x2.drop('Unnamed: 5', axis = 1)\n",
    "    # x2 = x2.drop('Till Datum Tid (UTC)', axis = 1)\n",
    "    x2 = x2.drop('Fran Datum Tid (UTC)', axis = 1)\n",
    "    x2 = x2.drop('Tidsutsnitt:', axis = 1)\n",
    "    y2 = x2.temperature\n",
    "    X2 = x2.drop('temperature', axis= 1)\n",
    "\n",
    "    new_dates = []\n",
    "    counter = 0\n",
    "    X = X.append(X2)\n",
    "    dates = X.day\n",
    "    for day in dates:\n",
    "        day = datetime.datetime.strptime(day, \"%Y-%m-%d\")\n",
    "        day2 = (day - datetime.datetime(1970,1,1)).total_seconds()\n",
    "        new_dates.append(day2)\n",
    "    X.day = new_dates\n",
    "    new_dates= []\n",
    "    for day in X.till:\n",
    "        day = datetime.datetime.strptime(day, \"%Y-%m-%d %H:%M:%S\")\n",
    "        day2 = (day - datetime.datetime(1970,1,1)).total_seconds()\n",
    "        new_dates.append(day2)\n",
    "    X.till = new_dates\n",
    "    y = y.append(y2)\n",
    "\n",
    "\n",
    "    X_train, X_test, y_train, y_test = train_test_split(X, y,\n",
    "                                                        test_size=0.5, \n",
    "                                                        random_state=123, \n",
    "                                                        )\n",
    "\n",
    "\n",
    "    scaler = preprocessing.StandardScaler().fit(X_train)\n",
    "    X_train_scaled = scaler.transform(X_train)\n",
    " \n",
    "    pipeline = make_pipeline(preprocessing.StandardScaler(), \n",
    "                         RandomForestRegressor(n_estimators=100))\n",
    "\n",
    "    hyperparameters = { 'randomforestregressor__max_features' : ['auto', 'sqrt', 'log2'],\n",
    "                  'randomforestregressor__max_depth': [None, 5, 3, 1], }\n",
    "\n",
    "    clf = LinearRegression()\n",
    "    clf.fit(X_train, y_train)\n",
    "    pred = clf.predict(X_test)\n",
    "    print (r2_score(y_test, pred))\n",
    "    print (mean_squared_error(y_test, pred))\n",
    "\n",
    "    joblib.dump(clf, 'weather_predictor.pkl')"
   ]
  },
  {
   "cell_type": "code",
   "execution_count": 5,
   "metadata": {},
   "outputs": [],
   "source": [
    "def get_the_weather(date):\n",
    "    weather = data1.day\n",
    "    temp = data1.temperature\n",
    "\n",
    "    for i in range(0, len(weather)):\n",
    "        day = datetime.datetime.strptime(weather[i], \"%Y-%m-%d\")\n",
    "        if (day == date):\n",
    "            return temp[i]"
   ]
  },
  {
   "cell_type": "code",
   "execution_count": 14,
   "metadata": {},
   "outputs": [],
   "source": [
    "def predict_weather(year,month,theday):\n",
    "    clf = joblib.load('weather_predictor.pkl')\n",
    "    print(\"-\" * 48)\n",
    "    year = year\n",
    "    month = month\n",
    "    theday = theday\n",
    "\n",
    "    day = str(year) + \"-\" + str(month) + \"-\" + str(theday)\n",
    "    day = datetime.datetime.strptime(day, \"%Y-%m-%d\")\n",
    "    date = (day - datetime.datetime(1970,1,1)).total_seconds()\n",
    "\n",
    "    day_x = str(year) + \"-\" + str(month) + \"-\" + str(theday)\n",
    "    day_x = datetime.datetime.strptime(day_x, \"%Y-%m-%d\")\n",
    "    date_x = (day_x - datetime.datetime(1970,1,1)).total_seconds()\n",
    "\n",
    "    X = [[date, date_x]]\n",
    "    print(\"The temperature predicted: \" + str(get_the_weather(day)))"
   ]
  },
  {
   "cell_type": "code",
   "execution_count": 18,
   "metadata": {},
   "outputs": [
    {
     "name": "stdout",
     "output_type": "stream",
     "text": [
      "0.003303877046616721\n",
      "51.67488242207148\n",
      "------------------------------------------------\n",
      "The temperature predicted: -0.7\n"
     ]
    }
   ],
   "source": [
    "train_data()\n",
    "predict_weather(\"2012\",\"01\",\"27\")"
   ]
  }
 ],
 "metadata": {
  "interpreter": {
   "hash": "c0f70214c0dd213f07f54ee5d6e0ea644bdbba35113c9bfe8aaa0d1db03ad5dd"
  },
  "kernelspec": {
   "display_name": "Python 3.8.8 64-bit ('base': conda)",
   "language": "python",
   "name": "python3"
  },
  "language_info": {
   "codemirror_mode": {
    "name": "ipython",
    "version": 3
   },
   "file_extension": ".py",
   "mimetype": "text/x-python",
   "name": "python",
   "nbconvert_exporter": "python",
   "pygments_lexer": "ipython3",
   "version": "3.8.8"
  },
  "orig_nbformat": 4
 },
 "nbformat": 4,
 "nbformat_minor": 2
}
